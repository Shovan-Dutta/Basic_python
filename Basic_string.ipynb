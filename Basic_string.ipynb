{
 "cells": [
  {
   "cell_type": "code",
   "execution_count": 3,
   "metadata": {},
   "outputs": [],
   "source": [
    "name = \"shovan dutta\""
   ]
  },
  {
   "cell_type": "code",
   "execution_count": 2,
   "metadata": {},
   "outputs": [
    {
     "name": "stdout",
     "output_type": "stream",
     "text": [
      " \n",
      "hi\n",
      "just trying this new stuff\n",
      "thank you\n",
      "\n"
     ]
    }
   ],
   "source": [
    "message = \"\"\" \n",
    "hi\n",
    "just trying this new stuff\n",
    "thank you\n",
    "\"\"\"\n",
    "print(message)"
   ]
  },
  {
   "cell_type": "code",
   "execution_count": 6,
   "metadata": {},
   "outputs": [
    {
     "name": "stdout",
     "output_type": "stream",
     "text": [
      "12\n",
      "42\n"
     ]
    }
   ],
   "source": [
    "print(len(name))\n",
    "print(len(message))"
   ]
  },
  {
   "cell_type": "code",
   "execution_count": 11,
   "metadata": {},
   "outputs": [
    {
     "name": "stdout",
     "output_type": "stream",
     "text": [
      "s\n",
      "v\n",
      "a\n",
      "sho\n"
     ]
    }
   ],
   "source": [
    "print(name[0])\n",
    "print(name[3])\n",
    "print(name[-1])\n",
    "print(name[0:3])#part of a string"
   ]
  },
  {
   "cell_type": "code",
   "execution_count": 12,
   "metadata": {},
   "outputs": [
    {
     "name": "stdout",
     "output_type": "stream",
     "text": [
      "Shovan \n",
      " Dutta\n"
     ]
    }
   ],
   "source": [
    "string1 = \"Shovan \\nDutta\" # '\\' is an escape sequence\n",
    "print(string1) "
   ]
  },
  {
   "cell_type": "code",
   "execution_count": 14,
   "metadata": {},
   "outputs": [
    {
     "name": "stdout",
     "output_type": "stream",
     "text": [
      "my name is Shovan Dutta\n",
      "my age is 22\n"
     ]
    }
   ],
   "source": [
    "fname=\"Shovan\"\n",
    "lname=\"Dutta\"\n",
    "sentence = f\"my name is {fname} {lname}\" \n",
    "print(sentence)\n",
    "\n",
    "sentence = f\"my age is {32-10}\" \n",
    "print(sentence)"
   ]
  },
  {
   "cell_type": "code",
   "execution_count": 16,
   "metadata": {},
   "outputs": [
    {
     "name": "stdout",
     "output_type": "stream",
     "text": [
      "SHOVAN DUTTA\n",
      "shovan dutta\n",
      "Shovan Dutta\n"
     ]
    }
   ],
   "source": [
    "#some funtions\n",
    "print(name.upper())\n",
    "print(name.lower())\n",
    "print(name.title())\n"
   ]
  },
  {
   "cell_type": "code",
   "execution_count": 17,
   "metadata": {},
   "outputs": [
    {
     "data": {
      "text/plain": [
       "'Shovan'"
      ]
     },
     "execution_count": 17,
     "metadata": {},
     "output_type": "execute_result"
    }
   ],
   "source": [
    "name=\"  Shovan  \"\n",
    "name.strip() #removes the extra spaces"
   ]
  },
  {
   "cell_type": "code",
   "execution_count": 24,
   "metadata": {},
   "outputs": [
    {
     "name": "stdout",
     "output_type": "stream",
     "text": [
      "3\n",
      "True\n",
      "False\n",
      "True\n"
     ]
    }
   ],
   "source": [
    "print(name.find(\"ho\")) #checking or finding an element in a string\n",
    "print(\"ho\" in name)\n",
    "print(\"dutta\" in name)\n",
    "print(\"dutta\" not in name)"
   ]
  },
  {
   "cell_type": "code",
   "execution_count": 22,
   "metadata": {},
   "outputs": [
    {
     "data": {
      "text/plain": [
       "'  Shov22n  '"
      ]
     },
     "execution_count": 22,
     "metadata": {},
     "output_type": "execute_result"
    }
   ],
   "source": [
    "name.replace(\"a\",\"22\")"
   ]
  }
 ],
 "metadata": {
  "kernelspec": {
   "display_name": "Python 3.10.7 64-bit (microsoft store)",
   "language": "python",
   "name": "python3"
  },
  "language_info": {
   "codemirror_mode": {
    "name": "ipython",
    "version": 3
   },
   "file_extension": ".py",
   "mimetype": "text/x-python",
   "name": "python",
   "nbconvert_exporter": "python",
   "pygments_lexer": "ipython3",
   "version": "3.10.7"
  },
  "orig_nbformat": 4,
  "vscode": {
   "interpreter": {
    "hash": "3bffa483878893213c67ffba772e7bd50019cab8b574f899a9dfbd33eebb51d8"
   }
  }
 },
 "nbformat": 4,
 "nbformat_minor": 2
}
